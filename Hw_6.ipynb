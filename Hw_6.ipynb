{
  "nbformat": 4,
  "nbformat_minor": 0,
  "metadata": {
    "colab": {
      "provenance": [],
      "authorship_tag": "ABX9TyOiyCxVZy67PyfQYz8KdV9j",
      "include_colab_link": true
    },
    "kernelspec": {
      "name": "python3",
      "display_name": "Python 3"
    },
    "language_info": {
      "name": "python"
    }
  },
  "cells": [
    {
      "cell_type": "markdown",
      "metadata": {
        "id": "view-in-github",
        "colab_type": "text"
      },
      "source": [
        "<a href=\"https://colab.research.google.com/github/maracasabat/Data-Science-HW6/blob/main/Hw_6.ipynb\" target=\"_parent\"><img src=\"https://colab.research.google.com/assets/colab-badge.svg\" alt=\"Open In Colab\"/></a>"
      ]
    },
    {
      "cell_type": "code",
      "execution_count": null,
      "metadata": {
        "id": "Hew0HPCGLTWh"
      },
      "outputs": [],
      "source": [
        "!pip install pyspark"
      ]
    },
    {
      "cell_type": "code",
      "source": [
        "from pyspark.sql import Row\n",
        "from pyspark.sql import SparkSession\n",
        "import matplotlib.pyplot as plt \n",
        "import seaborn as sns\n",
        "from pyspark.sql.functions import mean, stddev, max , min"
      ],
      "metadata": {
        "id": "LFhXB4_aLsmr"
      },
      "execution_count": 2,
      "outputs": []
    },
    {
      "cell_type": "markdown",
      "source": [
        "## Завдання 1"
      ],
      "metadata": {
        "id": "Tzee-uAVQIZq"
      }
    },
    {
      "cell_type": "markdown",
      "source": [
        "1. Створити спарк сесію."
      ],
      "metadata": {
        "id": "EReiojR7MyFL"
      }
    },
    {
      "cell_type": "code",
      "source": [
        "sc = SparkSession.builder.getOrCreate()"
      ],
      "metadata": {
        "id": "tzcR6DeFMT3s"
      },
      "execution_count": 3,
      "outputs": []
    },
    {
      "cell_type": "markdown",
      "source": [
        "2. Прочитати датасет до датафрейму."
      ],
      "metadata": {
        "id": "5K0RKp2vM47m"
      }
    },
    {
      "cell_type": "code",
      "source": [
        "df = sc.read.csv('/content/bestsellers with categories.csv', header=True, inferSchema=True)\n",
        "df.show()"
      ],
      "metadata": {
        "colab": {
          "base_uri": "https://localhost:8080/"
        },
        "id": "_wtYbN9FMtRu",
        "outputId": "ad593917-6ab1-4898-811d-ac4b49f361bb"
      },
      "execution_count": 4,
      "outputs": [
        {
          "output_type": "stream",
          "name": "stdout",
          "text": [
            "+--------------------+--------------------+-----------+-------+-----+----+-----------+\n",
            "|                Name|              Author|User Rating|Reviews|Price|Year|      Genre|\n",
            "+--------------------+--------------------+-----------+-------+-----+----+-----------+\n",
            "|10-Day Green Smoo...|            JJ Smith|        4.7|  17350|    8|2016|Non Fiction|\n",
            "|   11/22/63: A Novel|        Stephen King|        4.6|   2052|   22|2011|    Fiction|\n",
            "|12 Rules for Life...|  Jordan B. Peterson|        4.7|  18979|   15|2018|Non Fiction|\n",
            "|1984 (Signet Clas...|       George Orwell|        4.7|  21424|    6|2017|    Fiction|\n",
            "|5,000 Awesome Fac...|National Geograph...|        4.8|   7665|   12|2019|Non Fiction|\n",
            "|A Dance with Drag...| George R. R. Martin|        4.4|  12643|   11|2011|    Fiction|\n",
            "|A Game of Thrones...| George R. R. Martin|        4.7|  19735|   30|2014|    Fiction|\n",
            "|A Gentleman in Mo...|         Amor Towles|        4.7|  19699|   15|2017|    Fiction|\n",
            "|A Higher Loyalty:...|         James Comey|        4.7|   5983|    3|2018|Non Fiction|\n",
            "|A Man Called Ove:...|     Fredrik Backman|        4.6|  23848|    8|2016|    Fiction|\n",
            "|A Man Called Ove:...|     Fredrik Backman|        4.6|  23848|    8|2017|    Fiction|\n",
            "|A Patriot's Histo...|    Larry Schweikart|        4.6|    460|    2|2010|Non Fiction|\n",
            "|A Stolen Life: A ...|       Jaycee Dugard|        4.6|   4149|   32|2011|Non Fiction|\n",
            "|A Wrinkle in Time...|   Madeleine L'Engle|        4.5|   5153|    5|2018|    Fiction|\n",
            "|Act Like a Lady, ...|        Steve Harvey|        4.6|   5013|   17|2009|Non Fiction|\n",
            "|Adult Coloring Bo...|Adult Coloring Bo...|        4.5|   2313|    4|2016|Non Fiction|\n",
            "|Adult Coloring Bo...|  Blue Star Coloring|        4.6|   2925|    6|2015|Non Fiction|\n",
            "|Adult Coloring Bo...|  Blue Star Coloring|        4.4|   2951|    6|2015|Non Fiction|\n",
            "|Adult Coloring Bo...|Coloring Books fo...|        4.5|   2426|    8|2015|Non Fiction|\n",
            "|  Alexander Hamilton|         Ron Chernow|        4.8|   9198|   13|2016|Non Fiction|\n",
            "+--------------------+--------------------+-----------+-------+-----+----+-----------+\n",
            "only showing top 20 rows\n",
            "\n"
          ]
        }
      ]
    },
    {
      "cell_type": "markdown",
      "source": [
        "3. Використовуючи тільки RDD обчислити середню ціну всіх книг, у яких рейтинг вищий за 4.7"
      ],
      "metadata": {
        "id": "wrtrBN0LOsNX"
      }
    },
    {
      "cell_type": "code",
      "source": [
        "df1 = df.filter(df['User Rating'] > 4.7)\n",
        "df1.show(10)"
      ],
      "metadata": {
        "id": "1T6qCVEnOuSu",
        "colab": {
          "base_uri": "https://localhost:8080/"
        },
        "outputId": "897ee7a6-e2a1-464e-a503-98e75157ab2f"
      },
      "execution_count": 5,
      "outputs": [
        {
          "output_type": "stream",
          "name": "stdout",
          "text": [
            "+--------------------+--------------------+-----------+-------+-----+----+-----------+\n",
            "|                Name|              Author|User Rating|Reviews|Price|Year|      Genre|\n",
            "+--------------------+--------------------+-----------+-------+-----+----+-----------+\n",
            "|5,000 Awesome Fac...|National Geograph...|        4.8|   7665|   12|2019|Non Fiction|\n",
            "|  Alexander Hamilton|         Ron Chernow|        4.8|   9198|   13|2016|Non Fiction|\n",
            "|Barefoot Contessa...|          Ina Garten|        4.8|   1296|   24|2012|Non Fiction|\n",
            "|            Becoming|      Michelle Obama|        4.8|  61133|   11|2018|Non Fiction|\n",
            "|            Becoming|      Michelle Obama|        4.8|  61133|   11|2019|Non Fiction|\n",
            "|Being Mortal: Med...|        Atul Gawande|        4.8|  11113|   15|2015|Non Fiction|\n",
            "|Brown Bear, Brown...|     Bill Martin Jr.|        4.9|  14344|    5|2017|    Fiction|\n",
            "|Brown Bear, Brown...|     Bill Martin Jr.|        4.9|  14344|    5|2019|    Fiction|\n",
            "|Cabin Fever (Diar...|         Jeff Kinney|        4.8|   4505|    0|2011|    Fiction|\n",
            "|Can't Hurt Me: Ma...|       David Goggins|        4.8|  16244|   18|2019|Non Fiction|\n",
            "+--------------------+--------------------+-----------+-------+-----+----+-----------+\n",
            "only showing top 10 rows\n",
            "\n"
          ]
        }
      ]
    },
    {
      "cell_type": "code",
      "source": [
        "df1.agg({'Price': 'avg'}).show()"
      ],
      "metadata": {
        "colab": {
          "base_uri": "https://localhost:8080/"
        },
        "id": "dOwsIziuyoL2",
        "outputId": "97bd00ff-0cda-4428-e322-e4a3af06d1e7"
      },
      "execution_count": 6,
      "outputs": [
        {
          "output_type": "stream",
          "name": "stdout",
          "text": [
            "+-----------------+\n",
            "|       avg(Price)|\n",
            "+-----------------+\n",
            "|10.69832402234637|\n",
            "+-----------------+\n",
            "\n"
          ]
        }
      ]
    },
    {
      "cell_type": "markdown",
      "source": [
        "4. Побудувати гістограму розподілу рецензій (стовпець Reviews)."
      ],
      "metadata": {
        "id": "rSTvLZTj_68S"
      }
    },
    {
      "cell_type": "code",
      "source": [
        "df2 = df['Author','Reviews'].toPandas()"
      ],
      "metadata": {
        "id": "7LhHghnnACTz"
      },
      "execution_count": 7,
      "outputs": []
    },
    {
      "cell_type": "code",
      "source": [
        "df2.plot.hist(y='Reviews', figsize=(16, 10), bins=15)\n",
        "plt.title('Гістограма розподілу рецензій', fontsize=20, color='g')\n",
        "plt.show()"
      ],
      "metadata": {
        "colab": {
          "base_uri": "https://localhost:8080/",
          "height": 612
        },
        "id": "J_Kl4PZhJxS5",
        "outputId": "bd96e8e9-f9af-46ed-899c-eede95b325f1"
      },
      "execution_count": 8,
      "outputs": [
        {
          "output_type": "display_data",
          "data": {
            "text/plain": [
              "<Figure size 1152x720 with 1 Axes>"
            ],
            "image/png": "[encoded data removed]"
          },
          "metadata": {
            "needs_background": "light"
          }
        }
      ]
    },
    {
      "cell_type": "markdown",
      "source": [
        "5. Побудувати матрицю кореляції для стовпців \"User Rating\", \"Reviews\" та \"Price\"."
      ],
      "metadata": {
        "id": "g_KPOVQkL-bC"
      }
    },
    {
      "cell_type": "code",
      "source": [
        "df3 = df['User Rating', 'Reviews', 'Price'].toPandas()\n",
        "df3.corr(method='pearson')"
      ],
      "metadata": {
        "colab": {
          "base_uri": "https://localhost:8080/",
          "height": 143
        },
        "id": "4z4hAMbzMF0t",
        "outputId": "8f77ce2c-74fe-41bd-efdd-395c85e7d8fc"
      },
      "execution_count": 9,
      "outputs": [
        {
          "output_type": "execute_result",
          "data": {
            "text/plain": [
              "             User Rating   Reviews     Price\n",
              "User Rating     1.000000 -0.001729 -0.133086\n",
              "Reviews        -0.001729  1.000000 -0.109182\n",
              "Price          -0.133086 -0.109182  1.000000"
            ],
            "text/html": [
              "\n",
              "  <div id=\"df-893e1f55-e338-4385-ad7a-f12aa8a37c6a\">\n",
              "    <div class=\"colab-df-container\">\n",
              "      <div>\n",
              "<style scoped>\n",
              "    .dataframe tbody tr th:only-of-type {\n",
              "        vertical-align: middle;\n",
              "    }\n",
              "\n",
              "    .dataframe tbody tr th {\n",
              "        vertical-align: top;\n",
              "    }\n",
              "\n",
              "    .dataframe thead th {\n",
              "        text-align: right;\n",
              "    }\n",
              "</style>\n",
              "<table border=\"1\" class=\"dataframe\">\n",
              "  <thead>\n",
              "    <tr style=\"text-align: right;\">\n",
              "      <th></th>\n",
              "      <th>User Rating</th>\n",
              "      <th>Reviews</th>\n",
              "      <th>Price</th>\n",
              "    </tr>\n",
              "  </thead>\n",
              "  <tbody>\n",
              "    <tr>\n",
              "      <th>User Rating</th>\n",
              "      <td>1.000000</td>\n",
              "      <td>-0.001729</td>\n",
              "      <td>-0.133086</td>\n",
              "    </tr>\n",
              "    <tr>\n",
              "      <th>Reviews</th>\n",
              "      <td>-0.001729</td>\n",
              "      <td>1.000000</td>\n",
              "      <td>-0.109182</td>\n",
              "    </tr>\n",
              "    <tr>\n",
              "      <th>Price</th>\n",
              "      <td>-0.133086</td>\n",
              "      <td>-0.109182</td>\n",
              "      <td>1.000000</td>\n",
              "    </tr>\n",
              "  </tbody>\n",
              "</table>\n",
              "</div>\n",
              "      <button class=\"colab-df-convert\" onclick=\"convertToInteractive('df-893e1f55-e338-4385-ad7a-f12aa8a37c6a')\"\n",
              "              title=\"Convert this dataframe to an interactive table.\"\n",
              "              style=\"display:none;\">\n",
              "        \n",
              "  <svg xmlns=\"http://www.w3.org/2000/svg\" height=\"24px\"viewBox=\"0 0 24 24\"\n",
              "       width=\"24px\">\n",
              "    <path d=\"M0 0h24v24H0V0z\" fill=\"none\"/>\n",
              "    <path d=\"M18.56 5.44l.94 2.06.94-2.06 2.06-.94-2.06-.94-.94-2.06-.94 2.06-2.06.94zm-11 1L8.5 8.5l.94-2.06 2.06-.94-2.06-.94L8.5 2.5l-.94 2.06-2.06.94zm10 10l.94 2.06.94-2.06 2.06-.94-2.06-.94-.94-2.06-.94 2.06-2.06.94z\"/><path d=\"M17.41 7.96l-1.37-1.37c-.4-.4-.92-.59-1.43-.59-.52 0-1.04.2-1.43.59L10.3 9.45l-7.72 7.72c-.78.78-.78 2.05 0 2.83L4 21.41c.39.39.9.59 1.41.59.51 0 1.02-.2 1.41-.59l7.78-7.78 2.81-2.81c.8-.78.8-2.07 0-2.86zM5.41 20L4 18.59l7.72-7.72 1.47 1.35L5.41 20z\"/>\n",
              "  </svg>\n",
              "      </button>\n",
              "      \n",
              "  <style>\n",
              "    .colab-df-container {\n",
              "      display:flex;\n",
              "      flex-wrap:wrap;\n",
              "      gap: 12px;\n",
              "    }\n",
              "\n",
              "    .colab-df-convert {\n",
              "      background-color: #E8F0FE;\n",
              "      border: none;\n",
              "      border-radius: 50%;\n",
              "      cursor: pointer;\n",
              "      display: none;\n",
              "      fill: #1967D2;\n",
              "      height: 32px;\n",
              "      padding: 0 0 0 0;\n",
              "      width: 32px;\n",
              "    }\n",
              "\n",
              "    .colab-df-convert:hover {\n",
              "      background-color: #E2EBFA;\n",
              "      box-shadow: 0px 1px 2px rgba(60, 64, 67, 0.3), 0px 1px 3px 1px rgba(60, 64, 67, 0.15);\n",
              "      fill: #174EA6;\n",
              "    }\n",
              "\n",
              "    [theme=dark] .colab-df-convert {\n",
              "      background-color: #3B4455;\n",
              "      fill: #D2E3FC;\n",
              "    }\n",
              "\n",
              "    [theme=dark] .colab-df-convert:hover {\n",
              "      background-color: #434B5C;\n",
              "      box-shadow: 0px 1px 3px 1px rgba(0, 0, 0, 0.15);\n",
              "      filter: drop-shadow(0px 1px 2px rgba(0, 0, 0, 0.3));\n",
              "      fill: #FFFFFF;\n",
              "    }\n",
              "  </style>\n",
              "\n",
              "      <script>\n",
              "        const buttonEl =\n",
              "          document.querySelector('#df-893e1f55-e338-4385-ad7a-f12aa8a37c6a button.colab-df-convert');\n",
              "        buttonEl.style.display =\n",
              "          google.colab.kernel.accessAllowed ? 'block' : 'none';\n",
              "\n",
              "        async function convertToInteractive(key) {\n",
              "          const element = document.querySelector('#df-893e1f55-e338-4385-ad7a-f12aa8a37c6a');\n",
              "          const dataTable =\n",
              "            await google.colab.kernel.invokeFunction('convertToInteractive',\n",
              "                                                     [key], {});\n",
              "          if (!dataTable) return;\n",
              "\n",
              "          const docLinkHtml = 'Like what you see? Visit the ' +\n",
              "            '<a target=\"_blank\" href=https://colab.research.google.com/notebooks/data_table.ipynb>data table notebook</a>'\n",
              "            + ' to learn more about interactive tables.';\n",
              "          element.innerHTML = '';\n",
              "          dataTable['output_type'] = 'display_data';\n",
              "          await google.colab.output.renderOutput(dataTable, element);\n",
              "          const docLink = document.createElement('div');\n",
              "          docLink.innerHTML = docLinkHtml;\n",
              "          element.appendChild(docLink);\n",
              "        }\n",
              "      </script>\n",
              "    </div>\n",
              "  </div>\n",
              "  "
            ]
          },
          "metadata": {},
          "execution_count": 9
        }
      ]
    },
    {
      "cell_type": "code",
      "source": [
        "plt.rcParams[\"figure.figsize\"] = (16, 10)\n",
        "sns.heatmap(df3.corr(), annot=True, cmap='BrBG')\n",
        "plt.title('Візуалізація матриці кореляції', fontsize=20, color='g')\n",
        "plt.show()"
      ],
      "metadata": {
        "colab": {
          "base_uri": "https://localhost:8080/",
          "height": 612
        },
        "id": "TyOEW4LNN7vp",
        "outputId": "5487d226-0520-4200-9879-afb0c4c78402"
      },
      "execution_count": 10,
      "outputs": [
        {
          "output_type": "display_data",
          "data": {
            "text/plain": [
              "<Figure size 1152x720 with 2 Axes>"
            ],
            "image/png": "[encoded data removed]"
          },
          "metadata": {
            "needs_background": "light"
          }
        }
      ]
    },
    {
      "cell_type": "markdown",
      "source": [
        "6. Використовуючи бібліотеку seaborn побудувати парні графіки (pairplots) стовпців \"User Rating\", \"Reviews\" та \"Price\"."
      ],
      "metadata": {
        "id": "rCO2H3KFNevz"
      }
    },
    {
      "cell_type": "code",
      "source": [
        "p=sns.pairplot(df3)\n",
        "p.fig.set_size_inches(16, 13)"
      ],
      "metadata": {
        "colab": {
          "base_uri": "https://localhost:8080/",
          "height": 908
        },
        "id": "omj7ortsNiBW",
        "outputId": "973959fa-6c6f-4bd3-b684-dfdd4e3a4928"
      },
      "execution_count": 11,
      "outputs": [
        {
          "output_type": "display_data",
          "data": {
            "text/plain": [
              "<Figure size 1152x936 with 12 Axes>"
            ],
            "image/png": "[encoded data removed]"
          },
          "metadata": {
            "needs_background": "light"
          }
        }
      ]
    },
    {
      "cell_type": "markdown",
      "source": [
        "## Завдання 2"
      ],
      "metadata": {
        "id": "nd42B78MQw5Z"
      }
    },
    {
      "cell_type": "markdown",
      "source": [
        "1. Знайдіть автора із найвищим рейтингом."
      ],
      "metadata": {
        "id": "1jiCIUrdQycq"
      }
    },
    {
      "cell_type": "code",
      "source": [
        "df4 = df.withColumnRenamed(\"User Rating\", \"user_rating\")\n",
        "df4.createOrReplaceTempView(\"books\")"
      ],
      "metadata": {
        "id": "FcxSwYhvTUwT"
      },
      "execution_count": 12,
      "outputs": []
    },
    {
      "cell_type": "code",
      "source": [
        "max_rate = sc.sql(\"SELECT DISTINCT Author, user_rating FROM books WHERE user_rating == (SELECT MAX(user_rating) FROM books)\").show()"
      ],
      "metadata": {
        "colab": {
          "base_uri": "https://localhost:8080/"
        },
        "id": "lgevrDVlTrI0",
        "outputId": "fce0b72b-a7df-4115-aa7e-95e5f66eaf38"
      },
      "execution_count": 13,
      "outputs": [
        {
          "output_type": "stream",
          "name": "stdout",
          "text": [
            "+--------------------+-----------+\n",
            "|              Author|user_rating|\n",
            "+--------------------+-----------+\n",
            "|Emily Winfield Ma...|        4.9|\n",
            "|     Bill Martin Jr.|        4.9|\n",
            "|          Eric Carle|        4.9|\n",
            "|          Pete Souza|        4.9|\n",
            "|      Nathan W. Pyle|        4.9|\n",
            "|         Jeff Kinney|        4.9|\n",
            "|     Brandon Stanton|        4.9|\n",
            "|        J.K. Rowling|        4.9|\n",
            "|         Chip Gaines|        4.9|\n",
            "|           Dr. Seuss|        4.9|\n",
            "|      Alice Schertle|        4.9|\n",
            "|       Rush Limbaugh|        4.9|\n",
            "|          Dav Pilkey|        4.9|\n",
            "|       J. K. Rowling|        4.9|\n",
            "|      Patrick Thorpe|        4.9|\n",
            "|       Mark R. Levin|        4.9|\n",
            "|Sherri Duskey Rinker|        4.9|\n",
            "|          Jill Twiss|        4.9|\n",
            "|         Sarah Young|        4.9|\n",
            "|  Lin-Manuel Miranda|        4.9|\n",
            "+--------------------+-----------+\n",
            "\n"
          ]
        }
      ]
    },
    {
      "cell_type": "markdown",
      "source": [
        "2. Знайдіть трьох авторів із найнижчим рейтингом."
      ],
      "metadata": {
        "id": "SBYeZvHUUgAW"
      }
    },
    {
      "cell_type": "code",
      "source": [
        "min_rate = sc.sql(\"SELECT DISTINCT Author, user_rating FROM books ORDER BY user_rating LIMIT 3\").show()"
      ],
      "metadata": {
        "colab": {
          "base_uri": "https://localhost:8080/"
        },
        "id": "JO0mh-bmUjdV",
        "outputId": "ec76abbb-375c-4e10-ee74-06f8fcac0793"
      },
      "execution_count": 14,
      "outputs": [
        {
          "output_type": "stream",
          "name": "stdout",
          "text": [
            "+------------+-----------+\n",
            "|      Author|user_rating|\n",
            "+------------+-----------+\n",
            "|J.K. Rowling|        3.3|\n",
            "|  Harper Lee|        3.6|\n",
            "|   E L James|        3.8|\n",
            "+------------+-----------+\n",
            "\n"
          ]
        }
      ]
    },
    {
      "cell_type": "markdown",
      "source": [
        "3. Визначте, який автор отримав найбільшу кількість рецензій."
      ],
      "metadata": {
        "id": "duLri0x3Vrkr"
      }
    },
    {
      "cell_type": "code",
      "source": [
        "max_reviews = sc.sql(\"SELECT DISTINCT Author, Reviews FROM books WHERE Reviews == (SELECT MAX(Reviews) FROM books)\").show()"
      ],
      "metadata": {
        "colab": {
          "base_uri": "https://localhost:8080/"
        },
        "id": "qVw_iTuRVvVa",
        "outputId": "f1a39f08-115d-4ce7-d0e8-06c981f22bf2"
      },
      "execution_count": 15,
      "outputs": [
        {
          "output_type": "stream",
          "name": "stdout",
          "text": [
            "+-----------+-------+\n",
            "|     Author|Reviews|\n",
            "+-----------+-------+\n",
            "|Delia Owens|  87841|\n",
            "+-----------+-------+\n",
            "\n"
          ]
        }
      ]
    },
    {
      "cell_type": "markdown",
      "source": [
        "4. Визначте, який автор написав найбільшу кількість книг за весь доступний у даних період."
      ],
      "metadata": {
        "id": "UNUEsre1WeSB"
      }
    },
    {
      "cell_type": "code",
      "source": [
        "max_books = sc.sql(\"SELECT Author, number FROM (SELECT Author, COUNT(Author) as number FROM books GROUP BY Author) ORDER BY number DESC LIMIT 1\").show(100)"
      ],
      "metadata": {
        "colab": {
          "base_uri": "https://localhost:8080/"
        },
        "id": "5Hl3019RYohy",
        "outputId": "4d5f6b61-08d3-41de-bea5-249a4744d2a2"
      },
      "execution_count": 16,
      "outputs": [
        {
          "output_type": "stream",
          "name": "stdout",
          "text": [
            "+-----------+------+\n",
            "|     Author|number|\n",
            "+-----------+------+\n",
            "|Jeff Kinney|    12|\n",
            "+-----------+------+\n",
            "\n"
          ]
        }
      ]
    },
    {
      "cell_type": "markdown",
      "source": [
        "5. Визначте, яка книга жанру \"Fiction\" має найменший рейтинг."
      ],
      "metadata": {
        "id": "aJ03AIUXZ-Hl"
      }
    },
    {
      "cell_type": "code",
      "source": [
        "lowest_rating = sc.sql(\"SELECT Name, Genre, user_rating FROM books WHERE Genre == 'Fiction' ORDER BY user_rating LIMIT 1\").show()"
      ],
      "metadata": {
        "colab": {
          "base_uri": "https://localhost:8080/"
        },
        "id": "EFS9khWXaBu5",
        "outputId": "6b441d89-2bc1-42a7-bf9f-97754a9b9e54"
      },
      "execution_count": 17,
      "outputs": [
        {
          "output_type": "stream",
          "name": "stdout",
          "text": [
            "+------------------+-------+-----------+\n",
            "|              Name|  Genre|user_rating|\n",
            "+------------------+-------+-----------+\n",
            "|The Casual Vacancy|Fiction|        3.3|\n",
            "+------------------+-------+-----------+\n",
            "\n"
          ]
        }
      ]
    },
    {
      "cell_type": "markdown",
      "source": [
        "6. Визначте, яка книга жанру \"Non Fiction\" має найвищий рейтинг."
      ],
      "metadata": {
        "id": "8GQ1ytQ_b5vk"
      }
    },
    {
      "cell_type": "code",
      "source": [
        "highest_rating = sc.sql(\"SELECT DISTINCT Name, Genre, user_rating FROM books WHERE Genre == 'Non Fiction' AND user_rating = (SELECT MAX(user_rating) FROM books)\").show()"
      ],
      "metadata": {
        "colab": {
          "base_uri": "https://localhost:8080/"
        },
        "id": "MlDLwZSyb8Re",
        "outputId": "d6891eed-faff-496e-b91e-98f9044eda0b"
      },
      "execution_count": 18,
      "outputs": [
        {
          "output_type": "stream",
          "name": "stdout",
          "text": [
            "+--------------------+-----------+-----------+\n",
            "|                Name|      Genre|user_rating|\n",
            "+--------------------+-----------+-----------+\n",
            "|Humans of New Yor...|Non Fiction|        4.9|\n",
            "|Jesus Calling: En...|Non Fiction|        4.9|\n",
            "|  The Magnolia Story|Non Fiction|        4.9|\n",
            "|Unfreedom of the ...|Non Fiction|        4.9|\n",
            "|Obama: An Intimat...|Non Fiction|        4.9|\n",
            "|Hamilton: The Rev...|Non Fiction|        4.9|\n",
            "+--------------------+-----------+-----------+\n",
            "\n"
          ]
        }
      ]
    },
    {
      "cell_type": "code",
      "source": [],
      "metadata": {
        "id": "NjdQG0c4n3Wm"
      },
      "execution_count": 18,
      "outputs": []
    },
    {
      "cell_type": "markdown",
      "source": [
        "## Завдання 3"
      ],
      "metadata": {
        "id": "81oKrOQNjeTn"
      }
    },
    {
      "cell_type": "markdown",
      "source": [
        "Побудуйте гістограму середньої кількості рецензій за роками. У вигляді окремої гістограми візуалізуйте кількість книг жанру \"Fiction\" та \"Non Fiction\" за весь доступний період."
      ],
      "metadata": {
        "id": "z45X0Vuxjfzm"
      }
    },
    {
      "cell_type": "code",
      "source": [
        "df5 = df.groupBy('Year').agg({'Reviews': 'avg'}).toPandas()"
      ],
      "metadata": {
        "id": "-Wk2LKtbjiDt"
      },
      "execution_count": 19,
      "outputs": []
    },
    {
      "cell_type": "code",
      "source": [
        "plt.rcParams[\"figure.figsize\"] = (16, 10)\n",
        "plt.bar(df5['Year'], df5['avg(Reviews)'])\n",
        "plt.title('Гістограма середньої кількості рецензій за роками', fontsize=20, color='g')\n",
        "plt.show()"
      ],
      "metadata": {
        "colab": {
          "base_uri": "https://localhost:8080/",
          "height": 612
        },
        "id": "FwaUAisdlN3C",
        "outputId": "9d187834-92c4-4660-c676-038daa866a18"
      },
      "execution_count": 20,
      "outputs": [
        {
          "output_type": "display_data",
          "data": {
            "text/plain": [
              "<Figure size 1152x720 with 1 Axes>"
            ],
            "image/png": "[encoded data removed]"
          },
          "metadata": {
            "needs_background": "light"
          }
        }
      ]
    },
    {
      "cell_type": "code",
      "source": [
        "df6 = df.groupby([\"year\", \"genre\"]).count().toPandas()"
      ],
      "metadata": {
        "id": "UBms5klAnCTn"
      },
      "execution_count": 21,
      "outputs": []
    },
    {
      "cell_type": "code",
      "source": [
        "plt.rcParams[\"figure.figsize\"] = (16, 10)\n",
        "sns.barplot(x=\"year\", y=\"count\", hue=\"genre\", data=df6)\n",
        "plt.title('Кількість книг жанру \"Fiction\" та \"Non Fiction\" за весь доступний період', fontsize=20, color='g')\n",
        "plt.show()"
      ],
      "metadata": {
        "colab": {
          "base_uri": "https://localhost:8080/",
          "height": 627
        },
        "id": "vF5A4hhTpazo",
        "outputId": "6229905b-a790-4ace-c136-b8fae6a08801"
      },
      "execution_count": 22,
      "outputs": [
        {
          "output_type": "display_data",
          "data": {
            "text/plain": [
              "<Figure size 1152x720 with 1 Axes>"
            ],
            "image/png": "[encoded data removed]"
          },
          "metadata": {
            "needs_background": "light"
          }
        }
      ]
    },
    {
      "cell_type": "markdown",
      "source": [
        "## Завдання 4 (за бажанням)"
      ],
      "metadata": {
        "id": "SuWZgNv-qHJs"
      }
    },
    {
      "cell_type": "markdown",
      "source": [
        "Спробуйте портувати код, написаний вами раніше під pandas датафрейми на спарк датафрейми."
      ],
      "metadata": {
        "id": "4LeYVRVMqNGn"
      }
    },
    {
      "cell_type": "markdown",
      "source": [
        "Для спрощення подальшої роботи, давайте трохи підправимо назви змінних. Як бачите, тут усі назви починаються з великої літери, а одна - навіть містить прогалину. Це дуже небажано і може бути досить незручним. Давайте змінимо регістр на невеликий, а пропуск замінимо на нижнє підкреслення (snake_style). А заразом і вивчимо корисний атрибут датафрейму: columns(можна просто присвоїти список нових імен цьому атрибуту)"
      ],
      "metadata": {
        "id": "pDUbpVsfqqMW"
      }
    },
    {
      "cell_type": "code",
      "source": [
        "df = df.toDF('name', 'author', 'user_rating', 'reviews', 'price', 'year', 'genre')\n",
        "df.show()"
      ],
      "metadata": {
        "colab": {
          "base_uri": "https://localhost:8080/"
        },
        "id": "ZJcqm54DqrBE",
        "outputId": "61bc814d-f7b6-4dd9-8495-6136c6b9d630"
      },
      "execution_count": 23,
      "outputs": [
        {
          "output_type": "stream",
          "name": "stdout",
          "text": [
            "+--------------------+--------------------+-----------+-------+-----+----+-----------+\n",
            "|                name|              author|user_rating|reviews|price|year|      genre|\n",
            "+--------------------+--------------------+-----------+-------+-----+----+-----------+\n",
            "|10-Day Green Smoo...|            JJ Smith|        4.7|  17350|    8|2016|Non Fiction|\n",
            "|   11/22/63: A Novel|        Stephen King|        4.6|   2052|   22|2011|    Fiction|\n",
            "|12 Rules for Life...|  Jordan B. Peterson|        4.7|  18979|   15|2018|Non Fiction|\n",
            "|1984 (Signet Clas...|       George Orwell|        4.7|  21424|    6|2017|    Fiction|\n",
            "|5,000 Awesome Fac...|National Geograph...|        4.8|   7665|   12|2019|Non Fiction|\n",
            "|A Dance with Drag...| George R. R. Martin|        4.4|  12643|   11|2011|    Fiction|\n",
            "|A Game of Thrones...| George R. R. Martin|        4.7|  19735|   30|2014|    Fiction|\n",
            "|A Gentleman in Mo...|         Amor Towles|        4.7|  19699|   15|2017|    Fiction|\n",
            "|A Higher Loyalty:...|         James Comey|        4.7|   5983|    3|2018|Non Fiction|\n",
            "|A Man Called Ove:...|     Fredrik Backman|        4.6|  23848|    8|2016|    Fiction|\n",
            "|A Man Called Ove:...|     Fredrik Backman|        4.6|  23848|    8|2017|    Fiction|\n",
            "|A Patriot's Histo...|    Larry Schweikart|        4.6|    460|    2|2010|Non Fiction|\n",
            "|A Stolen Life: A ...|       Jaycee Dugard|        4.6|   4149|   32|2011|Non Fiction|\n",
            "|A Wrinkle in Time...|   Madeleine L'Engle|        4.5|   5153|    5|2018|    Fiction|\n",
            "|Act Like a Lady, ...|        Steve Harvey|        4.6|   5013|   17|2009|Non Fiction|\n",
            "|Adult Coloring Bo...|Adult Coloring Bo...|        4.5|   2313|    4|2016|Non Fiction|\n",
            "|Adult Coloring Bo...|  Blue Star Coloring|        4.6|   2925|    6|2015|Non Fiction|\n",
            "|Adult Coloring Bo...|  Blue Star Coloring|        4.4|   2951|    6|2015|Non Fiction|\n",
            "|Adult Coloring Bo...|Coloring Books fo...|        4.5|   2426|    8|2015|Non Fiction|\n",
            "|  Alexander Hamilton|         Ron Chernow|        4.8|   9198|   13|2016|Non Fiction|\n",
            "+--------------------+--------------------+-----------+-------+-----+----+-----------+\n",
            "only showing top 20 rows\n",
            "\n"
          ]
        }
      ]
    },
    {
      "cell_type": "code",
      "source": [
        "df.describe().show()"
      ],
      "metadata": {
        "colab": {
          "base_uri": "https://localhost:8080/"
        },
        "id": "AO8FxHlBrika",
        "outputId": "6cea24de-3417-4e08-cd68-7fd6fcee35f3"
      },
      "execution_count": 24,
      "outputs": [
        {
          "output_type": "stream",
          "name": "stdout",
          "text": [
            "+-------+--------------------+----------------+-------------------+------------------+------------------+------------------+-----------+\n",
            "|summary|                name|          author|        user_rating|           reviews|             price|              year|      genre|\n",
            "+-------+--------------------+----------------+-------------------+------------------+------------------+------------------+-----------+\n",
            "|  count|                 550|             550|                550|               550|               550|               550|        550|\n",
            "|   mean|                null|            null|  4.618363636363641|11953.281818181818|              13.1|            2014.0|       null|\n",
            "| stddev|                null|            null|0.22698036502519656|11731.132017431892|10.842261978422364|3.1651563841692782|       null|\n",
            "|    min|\"The Plant Parado...|Abraham Verghese|                3.3|                37|                 0|              2009|    Fiction|\n",
            "|    max|You Are a Badass:...|    Zhi Gang Sha|                4.9|             87841|               105|              2019|Non Fiction|\n",
            "+-------+--------------------+----------------+-------------------+------------------+------------------+------------------+-----------+\n",
            "\n"
          ]
        }
      ]
    },
    {
      "cell_type": "markdown",
      "source": [
        "Максимальний рейтинг в датасеті"
      ],
      "metadata": {
        "id": "GQNYkO62xAUy"
      }
    },
    {
      "cell_type": "code",
      "source": [
        "df.agg({'user_rating': 'max'}).show()"
      ],
      "metadata": {
        "colab": {
          "base_uri": "https://localhost:8080/"
        },
        "id": "vJTQScm7w0Y5",
        "outputId": "a83f8019-0da0-4ffa-a953-6bd61f8d7386"
      },
      "execution_count": 25,
      "outputs": [
        {
          "output_type": "stream",
          "name": "stdout",
          "text": [
            "+----------------+\n",
            "|max(user_rating)|\n",
            "+----------------+\n",
            "|             4.9|\n",
            "+----------------+\n",
            "\n"
          ]
        }
      ]
    },
    {
      "cell_type": "markdown",
      "source": [
        "Кількість книг які мають максимальний рейтинг"
      ],
      "metadata": {
        "id": "XZnlvJ3pxD_b"
      }
    },
    {
      "cell_type": "code",
      "source": [
        "df.filter(df['user_rating'] == 4.9).count()"
      ],
      "metadata": {
        "colab": {
          "base_uri": "https://localhost:8080/"
        },
        "id": "-Uk-U9pPyt6g",
        "outputId": "ff8cb7b6-a612-4161-d5ec-734b2cc82c41"
      },
      "execution_count": 26,
      "outputs": [
        {
          "output_type": "execute_result",
          "data": {
            "text/plain": [
              "52"
            ]
          },
          "metadata": {},
          "execution_count": 26
        }
      ]
    },
    {
      "cell_type": "markdown",
      "source": [
        "Книга з найбільшою кількістю відгуків"
      ],
      "metadata": {
        "id": "mMFfeZ972UXW"
      }
    },
    {
      "cell_type": "code",
      "source": [
        "df.sort(df['reviews'].desc()).show(1)"
      ],
      "metadata": {
        "colab": {
          "base_uri": "https://localhost:8080/"
        },
        "id": "dyYtpaD629Z_",
        "outputId": "52c6cef5-eecc-4f1b-cb96-206767a52bff"
      },
      "execution_count": 27,
      "outputs": [
        {
          "output_type": "stream",
          "name": "stdout",
          "text": [
            "+--------------------+-----------+-----------+-------+-----+----+-------+\n",
            "|                name|     author|user_rating|reviews|price|year|  genre|\n",
            "+--------------------+-----------+-----------+-------+-----+----+-------+\n",
            "|Where the Crawdad...|Delia Owens|        4.8|  87841|   15|2019|Fiction|\n",
            "+--------------------+-----------+-----------+-------+-----+----+-------+\n",
            "only showing top 1 row\n",
            "\n"
          ]
        }
      ]
    },
    {
      "cell_type": "markdown",
      "source": [
        "Кількість книг жанру Fiction потрапили до Топ-50 у 2010 році"
      ],
      "metadata": {
        "id": "c-3mbi3s4NZT"
      }
    },
    {
      "cell_type": "code",
      "source": [
        "df.filter((df['year'] == 2010) & (df['genre'] == 'Fiction')).count()"
      ],
      "metadata": {
        "colab": {
          "base_uri": "https://localhost:8080/"
        },
        "id": "fpAzYyFS4No0",
        "outputId": "fa9d49e5-c16f-4165-ce2d-4d4fd3084420"
      },
      "execution_count": 28,
      "outputs": [
        {
          "output_type": "execute_result",
          "data": {
            "text/plain": [
              "20"
            ]
          },
          "metadata": {},
          "execution_count": 28
        }
      ]
    },
    {
      "cell_type": "markdown",
      "source": [
        "Кількість книг з рейтингом 4.9 потрапило до рейтингу у 2010 та 2011 роках"
      ],
      "metadata": {
        "id": "0DAa2yIr44Sq"
      }
    },
    {
      "cell_type": "code",
      "source": [
        "df.filter((df['user_rating'] == 4.9) & ((df['year'] == 2010) | (df['year'] == 2011))).show()"
      ],
      "metadata": {
        "colab": {
          "base_uri": "https://localhost:8080/"
        },
        "id": "2Ikc6TLC5Byc",
        "outputId": "c2c680e0-0034-46e7-dbfa-3c1bf8c8da9b"
      },
      "execution_count": 29,
      "outputs": [
        {
          "output_type": "stream",
          "name": "stdout",
          "text": [
            "+--------------------+-----------+-----------+-------+-----+----+-----------+\n",
            "|                name|     author|user_rating|reviews|price|year|      genre|\n",
            "+--------------------+-----------+-----------+-------+-----+----+-----------+\n",
            "|Jesus Calling: En...|Sarah Young|        4.9|  19576|    8|2011|Non Fiction|\n",
            "+--------------------+-----------+-----------+-------+-----+----+-----------+\n",
            "\n"
          ]
        }
      ]
    },
    {
      "cell_type": "markdown",
      "source": [
        "Відсортуємо за зростанням ціни всі книги, які потрапили в рейтинг у 2015 році і коштують дешевше за 8 доларів"
      ],
      "metadata": {
        "id": "GC96XQWy5ueD"
      }
    },
    {
      "cell_type": "code",
      "source": [
        "df.filter((df['price'] < 8) & (df['year'] == 2015)).sort(df['price']).show()"
      ],
      "metadata": {
        "colab": {
          "base_uri": "https://localhost:8080/"
        },
        "id": "d73NPXc56BHD",
        "outputId": "65aa8640-9658-4a27-e24f-e2b64ded884f"
      },
      "execution_count": 30,
      "outputs": [
        {
          "output_type": "stream",
          "name": "stdout",
          "text": [
            "+--------------------+------------------+-----------+-------+-----+----+-----------+\n",
            "|                name|            author|user_rating|reviews|price|year|      genre|\n",
            "+--------------------+------------------+-----------+-------+-----+----+-----------+\n",
            "|To Kill a Mocking...|        Harper Lee|        4.8|  26234|    0|2015|    Fiction|\n",
            "|Giraffes Can't Dance|     Giles Andreae|        4.8|  14038|    4|2015|    Fiction|\n",
            "|Knock-Knock Jokes...|       Rob Elliott|        4.5|   3673|    4|2015|Non Fiction|\n",
            "|Laugh-Out-Loud Jo...|       Rob Elliott|        4.6|   6990|    4|2015|Non Fiction|\n",
            "|Creative Haven Cr...|   Marjorie Sarnat|        4.8|   4022|    4|2015|Non Fiction|\n",
            "|     First 100 Words|      Roger Priddy|        4.7|  17323|    4|2015|Non Fiction|\n",
            "|Dover Creative Ha...|       Marty Noble|        4.6|   2134|    5|2015|Non Fiction|\n",
            "|The Very Hungry C...|        Eric Carle|        4.9|  19546|    5|2015|    Fiction|\n",
            "|Baby Touch and Fe...|                DK|        4.6|   5360|    5|2015|Non Fiction|\n",
            "|Creative Haven Ow...|   Marjorie Sarnat|        4.8|   3871|    5|2015|Non Fiction|\n",
            "|Killing Reagan: T...|     Bill O'Reilly|        4.6|   5235|    5|2015|Non Fiction|\n",
            "|    Love You Forever|     Robert Munsch|        4.8|  18613|    5|2015|    Fiction|\n",
            "|Dear Zoo: A Lift-...|      Rod Campbell|        4.8|  10922|    5|2015|    Fiction|\n",
            "|Adult Coloring Bo...|Blue Star Coloring|        4.6|   2925|    6|2015|Non Fiction|\n",
            "|Adult Coloring Bo...|Blue Star Coloring|        4.4|   2951|    6|2015|Non Fiction|\n",
            "|The Four Agreemen...|   Don Miguel Ruiz|        4.7|  23308|    6|2015|Non Fiction|\n",
            "|Old School (Diary...|       Jeff Kinney|        4.8|   6169|    7|2015|    Fiction|\n",
            "+--------------------+------------------+-----------+-------+-----+----+-----------+\n",
            "\n"
          ]
        }
      ]
    },
    {
      "cell_type": "markdown",
      "source": [
        "Максимальна ціна книг жанру Fiction та Non Fiction"
      ],
      "metadata": {
        "id": "B0iVONm48ic1"
      }
    },
    {
      "cell_type": "code",
      "source": [
        "df.groupBy('genre').agg({'price': 'max'}).show()"
      ],
      "metadata": {
        "colab": {
          "base_uri": "https://localhost:8080/"
        },
        "id": "q6QrbZeF8jJc",
        "outputId": "ca54cf6f-6c7c-4b31-8d15-de168e08e639"
      },
      "execution_count": 31,
      "outputs": [
        {
          "output_type": "stream",
          "name": "stdout",
          "text": [
            "+-----------+----------+\n",
            "|      genre|max(price)|\n",
            "+-----------+----------+\n",
            "|    Fiction|        82|\n",
            "|Non Fiction|       105|\n",
            "+-----------+----------+\n",
            "\n"
          ]
        }
      ]
    },
    {
      "cell_type": "markdown",
      "source": [
        "Мінімальна ціна книг жанру Fiction та Non Fiction"
      ],
      "metadata": {
        "id": "ajm-i_t_9Mn5"
      }
    },
    {
      "cell_type": "code",
      "source": [
        "df.groupBy('genre').agg({'price': 'min'}).show()"
      ],
      "metadata": {
        "colab": {
          "base_uri": "https://localhost:8080/"
        },
        "id": "hhDXIfjh9R_q",
        "outputId": "03ace5bd-d902-44c6-cb6a-b36ac0eeb88f"
      },
      "execution_count": 32,
      "outputs": [
        {
          "output_type": "stream",
          "name": "stdout",
          "text": [
            "+-----------+----------+\n",
            "|      genre|min(price)|\n",
            "+-----------+----------+\n",
            "|    Fiction|         0|\n",
            "|Non Fiction|         0|\n",
            "+-----------+----------+\n",
            "\n"
          ]
        }
      ]
    }
  ]
}